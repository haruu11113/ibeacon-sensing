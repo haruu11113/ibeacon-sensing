{
 "cells": [
  {
   "cell_type": "code",
   "execution_count": 4,
   "metadata": {},
   "outputs": [],
   "source": [
    "import glob\n",
    "import datetime\n",
    "import pandas as pd"
   ]
  },
  {
   "cell_type": "code",
   "execution_count": 5,
   "metadata": {},
   "outputs": [
    {
     "name": "stdout",
     "output_type": "stream",
     "text": [
      "['./beacons/beacon_20230410_001243.csv', './beacons/beacon_20230410_001551.csv', './beacons/beacon_20230410_002347.csv', './beacons/beacon_20230410_002350.csv', './beacons/beacon_20230410_002415.csv', './beacons/beacon_20230410_002704.csv', './beacons/beacon_20230410_003124.csv', './beacons/beacon_20230410_003200.csv', './beacons/beacon_20230410_003230.csv', './beacons/beacon_20230410_003242.csv', './beacons/beacon_20230410_003349.csv', './beacons/beacon_20230410_003359.csv', './beacons/beacon_20230410_003415.csv', './beacons/beacon_20230410_003531.csv', './beacons/beacon_20230410_003634.csv', './beacons/beacon_20230410_003922.csv', './beacons/beacon_20230410_003927.csv', './beacons/beacon_20230410_003941.csv', './beacons/beacon_20230410_004044.csv', './beacons/beacon_20230410_004246.csv', './beacons/beacon_20230410_004340.csv', './beacons/beacon_20230410_004400.csv', './beacons/beacon_20230410_004437.csv', './beacons/beacon_20230410_004450.csv', './beacons/beacon_20230410_004513.csv', './beacons/beacon_20230410_004547.csv', './beacons/beacon_20230410_004720.csv', './beacons/beacon_20230410_004816.csv', './beacons/beacon_20230410_004848.csv', './beacons/beacon_20230410_005515.csv', './beacons/beacon_20230410_005600.csv', './beacons/beacon_20230410_005745.csv', './beacons/beacon_20230410_010546.csv', './beacons/beacon_20230410_125607.csv', './beacons/beacon_20230410_151034.csv', './beacons/beacon_20230410_160155.csv', './beacons/beacon_20230410_200326.csv', './beacons/beacon_20230410_200641.csv']\n",
      "File : ./beacons/beacon_20230410_200641.csv\n"
     ]
    }
   ],
   "source": [
    "dir = './beacons/*'\n",
    "\n",
    "files = glob.glob(dir)\n",
    "if len(files) > 0:\n",
    "    print(sorted(files))\n",
    "    file = sorted(files)[-1]\n",
    "\n",
    "print(\"File : {}\".format(file))\n",
    "df = pd.read_csv(file, index_col=0)\n",
    "df[\"Time\"] = pd.to_datetime(df[\"Time\"])"
   ]
  },
  {
   "cell_type": "code",
   "execution_count": 6,
   "metadata": {},
   "outputs": [
    {
     "name": "stdout",
     "output_type": "stream",
     "text": [
      "start 2023-04-10 10:58:31.236497 - end 2023-04-10 11:08:31.236558\n",
      "min: 2023-04-10 20:03:47.100302, max: 2023-04-10 20:06:41.504264\n"
     ]
    },
    {
     "data": {
      "text/plain": [
       "UUID\n",
       "219B2D85-B380-88B1-F391-BC7915760247     45\n",
       "25BB8EAA-3755-A3F0-A213-026AA0D2B6A9      3\n",
       "60C9B8A4-D050-DBC4-788B-1BB0D9A822F0      1\n",
       "646371D8-FC8C-179B-92ED-DA037486D2B1     16\n",
       "69EF6814-85D8-BDF8-553C-53B93B6EA1C5    145\n",
       "84BB37E7-6A31-852E-1A89-4133A91E3D59    158\n",
       "869FF4FD-976C-DC91-72CC-6D51F98330DD    102\n",
       "92F7310F-C001-2134-10D3-99237C53E5A9      1\n",
       "9B266BD2-E70A-A3B6-2156-0F5C82668F97      2\n",
       "B0D6FBEF-F166-7AB8-B5CC-9CE781E7E77C     12\n",
       "B2A00B53-2AC7-BFE5-F221-4135D9682B56     20\n",
       "E0608B24-DC87-DA4B-EC61-D28F213BD87F      1\n",
       "E1044C17-2FF2-FB08-03D0-45AD85C75138      3\n",
       "F7918A0C-CB8B-167A-36AB-AD7639A40024    134\n",
       "F838D5E7-FF6E-E55E-8520-CD521AEA0A82    167\n",
       "Name: Time, dtype: int64"
      ]
     },
     "execution_count": 6,
     "metadata": {},
     "output_type": "execute_result"
    }
   ],
   "source": [
    "start = datetime.datetime.now() - datetime.timedelta(minutes=10)\n",
    "end = datetime.datetime.now() - datetime.timedelta(minutes=0)\n",
    "# analyse_df = df[(start <= df['Time']) & (df[\"Time\"] <= end)]\n",
    "\n",
    "analyse_df = df.copy()\n",
    "print(\"start {} - end {}\".format(start, end))\n",
    "print(\"min: {}, max: {}\".format(analyse_df[\"Time\"].min(), analyse_df[\"Time\"].max()))\n",
    "analyse_df.groupby(\"UUID\").count()[\"Time\"]"
   ]
  },
  {
   "cell_type": "code",
   "execution_count": 9,
   "metadata": {},
   "outputs": [
    {
     "data": {
      "text/html": [
       "<div>\n",
       "<style scoped>\n",
       "    .dataframe tbody tr th:only-of-type {\n",
       "        vertical-align: middle;\n",
       "    }\n",
       "\n",
       "    .dataframe tbody tr th {\n",
       "        vertical-align: top;\n",
       "    }\n",
       "\n",
       "    .dataframe thead th {\n",
       "        text-align: right;\n",
       "    }\n",
       "</style>\n",
       "<table border=\"1\" class=\"dataframe\">\n",
       "  <thead>\n",
       "    <tr style=\"text-align: right;\">\n",
       "      <th></th>\n",
       "      <th>Time</th>\n",
       "      <th>UUID</th>\n",
       "      <th>RSSI</th>\n",
       "      <th>local_name</th>\n",
       "      <th>service_uuids</th>\n",
       "      <th>manufacturer_data</th>\n",
       "      <th>tx_power_level</th>\n",
       "    </tr>\n",
       "  </thead>\n",
       "  <tbody>\n",
       "    <tr>\n",
       "      <th>0</th>\n",
       "      <td>2023-04-10 20:03:47.100302</td>\n",
       "      <td>F7918A0C-CB8B-167A-36AB-AD7639A40024</td>\n",
       "      <td>-59</td>\n",
       "      <td>NaN</td>\n",
       "      <td>[]</td>\n",
       "      <td>{76: b'\\x10\\x06S\\x1d?e\\xf9('}</td>\n",
       "      <td>12.0</td>\n",
       "    </tr>\n",
       "    <tr>\n",
       "      <th>0</th>\n",
       "      <td>2023-04-10 20:03:47.118101</td>\n",
       "      <td>84BB37E7-6A31-852E-1A89-4133A91E3D59</td>\n",
       "      <td>-41</td>\n",
       "      <td>NaN</td>\n",
       "      <td>[]</td>\n",
       "      <td>{76: b'\\x10\\x07n\\x1f\\x94\\xd6\\xf9F8'}</td>\n",
       "      <td>8.0</td>\n",
       "    </tr>\n",
       "    <tr>\n",
       "      <th>0</th>\n",
       "      <td>2023-04-10 20:03:47.124778</td>\n",
       "      <td>84BB37E7-6A31-852E-1A89-4133A91E3D59</td>\n",
       "      <td>-42</td>\n",
       "      <td>NaN</td>\n",
       "      <td>[]</td>\n",
       "      <td>{76: b'\\x10\\x07n\\x1f\\x94\\xd6\\xf9F8'}</td>\n",
       "      <td>8.0</td>\n",
       "    </tr>\n",
       "    <tr>\n",
       "      <th>0</th>\n",
       "      <td>2023-04-10 20:03:47.130303</td>\n",
       "      <td>F838D5E7-FF6E-E55E-8520-CD521AEA0A82</td>\n",
       "      <td>-55</td>\n",
       "      <td>NaN</td>\n",
       "      <td>['0000fe9f-0000-1000-8000-00805f9b34fb']</td>\n",
       "      <td>{}</td>\n",
       "      <td>NaN</td>\n",
       "    </tr>\n",
       "    <tr>\n",
       "      <th>0</th>\n",
       "      <td>2023-04-10 20:03:48.696349</td>\n",
       "      <td>869FF4FD-976C-DC91-72CC-6D51F98330DD</td>\n",
       "      <td>-33</td>\n",
       "      <td>NaN</td>\n",
       "      <td>[]</td>\n",
       "      <td>{76: b'\\x10\\x07;\\x1fe\\xca\\xdcMX'}</td>\n",
       "      <td>8.0</td>\n",
       "    </tr>\n",
       "  </tbody>\n",
       "</table>\n",
       "</div>"
      ],
      "text/plain": [
       "                        Time                                  UUID  RSSI  \\\n",
       "0 2023-04-10 20:03:47.100302  F7918A0C-CB8B-167A-36AB-AD7639A40024   -59   \n",
       "0 2023-04-10 20:03:47.118101  84BB37E7-6A31-852E-1A89-4133A91E3D59   -41   \n",
       "0 2023-04-10 20:03:47.124778  84BB37E7-6A31-852E-1A89-4133A91E3D59   -42   \n",
       "0 2023-04-10 20:03:47.130303  F838D5E7-FF6E-E55E-8520-CD521AEA0A82   -55   \n",
       "0 2023-04-10 20:03:48.696349  869FF4FD-976C-DC91-72CC-6D51F98330DD   -33   \n",
       "\n",
       "  local_name                             service_uuids  \\\n",
       "0        NaN                                        []   \n",
       "0        NaN                                        []   \n",
       "0        NaN                                        []   \n",
       "0        NaN  ['0000fe9f-0000-1000-8000-00805f9b34fb']   \n",
       "0        NaN                                        []   \n",
       "\n",
       "                      manufacturer_data  tx_power_level  \n",
       "0         {76: b'\\x10\\x06S\\x1d?e\\xf9('}            12.0  \n",
       "0  {76: b'\\x10\\x07n\\x1f\\x94\\xd6\\xf9F8'}             8.0  \n",
       "0  {76: b'\\x10\\x07n\\x1f\\x94\\xd6\\xf9F8'}             8.0  \n",
       "0                                    {}             NaN  \n",
       "0     {76: b'\\x10\\x07;\\x1fe\\xca\\xdcMX'}             8.0  "
      ]
     },
     "execution_count": 9,
     "metadata": {},
     "output_type": "execute_result"
    }
   ],
   "source": [
    "df.head()"
   ]
  },
  {
   "cell_type": "code",
   "execution_count": null,
   "metadata": {},
   "outputs": [],
   "source": []
  },
  {
   "cell_type": "code",
   "execution_count": 32,
   "metadata": {},
   "outputs": [
    {
     "ename": "ModuleNotFoundError",
     "evalue": "No module named 'matplotlib'",
     "output_type": "error",
     "traceback": [
      "\u001b[0;31m---------------------------------------------------------------------------\u001b[0m",
      "\u001b[0;31mModuleNotFoundError\u001b[0m                       Traceback (most recent call last)",
      "\u001b[0;32m<ipython-input-32-33bff0158232>\u001b[0m in \u001b[0;36m<module>\u001b[0;34m\u001b[0m\n\u001b[0;32m----> 1\u001b[0;31m \u001b[0;32mimport\u001b[0m \u001b[0mmatplotlib\u001b[0m\u001b[0;34m.\u001b[0m\u001b[0mpyplot\u001b[0m \u001b[0;32mas\u001b[0m \u001b[0mplt\u001b[0m\u001b[0;34m\u001b[0m\u001b[0;34m\u001b[0m\u001b[0m\n\u001b[0m\u001b[1;32m      2\u001b[0m \u001b[0;32mfrom\u001b[0m \u001b[0mPIL\u001b[0m \u001b[0;32mimport\u001b[0m \u001b[0mImage\u001b[0m\u001b[0;34m\u001b[0m\u001b[0;34m\u001b[0m\u001b[0m\n\u001b[1;32m      3\u001b[0m \u001b[0;34m\u001b[0m\u001b[0m\n\u001b[1;32m      4\u001b[0m \u001b[0;31m# Figureとaxの準備 ... matplotlibの定型的な処理\u001b[0m\u001b[0;34m\u001b[0m\u001b[0;34m\u001b[0m\u001b[0;34m\u001b[0m\u001b[0m\n\u001b[1;32m      5\u001b[0m \u001b[0mfig\u001b[0m \u001b[0;34m=\u001b[0m \u001b[0mplt\u001b[0m\u001b[0;34m.\u001b[0m\u001b[0mfigure\u001b[0m\u001b[0;34m(\u001b[0m\u001b[0mfigsize\u001b[0m\u001b[0;34m=\u001b[0m\u001b[0;34m(\u001b[0m\u001b[0;36m8\u001b[0m\u001b[0;34m,\u001b[0m \u001b[0;36m6\u001b[0m\u001b[0;34m)\u001b[0m\u001b[0;34m)\u001b[0m\u001b[0;34m\u001b[0m\u001b[0;34m\u001b[0m\u001b[0m\n",
      "\u001b[0;31mModuleNotFoundError\u001b[0m: No module named 'matplotlib'"
     ]
    }
   ],
   "source": [
    "import matplotlib.pyplot as plt\n",
    "from PIL import Image\n",
    "\n",
    "# Figureとaxの準備 ... matplotlibの定型的な処理\n",
    "fig = plt.figure(figsize=(8, 6))\n",
    "fig.patch.set_facecolor('white') #<--これはなくてもよさそう。図全体の背景色を設定するが、imageで塗られる形になるため。\n",
    "ax = fig.add_subplot(1, 1, 1)\n",
    "\n",
    "# 画像だと(0,0)が左上に来て, y軸の正の方向が下を向くのでinvert_yaxis()\n",
    "# ax.invert_yaxis()と思ったけど、いらないようす。\n",
    "\n",
    "# xとyはログから入手したタッチ座標。ここでは、暫定的に左上、中央、右下を指定している\n",
    "x = [0, 400, 200]\n",
    "y = [0, 300, 150]\n",
    "\n",
    "# タッチ座標をプロットする\n",
    "ax.scatter(x, y, c='red', s=20)\n",
    "\n",
    "\n",
    "# 背景に画面イメージを出す\n",
    "im = Image.open(\"aaaa.png\")\n",
    "ax.imshow(im)\n",
    "\n",
    "# プロット画像を保存する\n",
    "plt.savefig(\"aaaa_plot.png\")"
   ]
  },
  {
   "cell_type": "code",
   "execution_count": 34,
   "metadata": {},
   "outputs": [
    {
     "name": "stdout",
     "output_type": "stream",
     "text": [
      "Collecting matplotlib\n",
      "  Downloading matplotlib-3.3.4.tar.gz (37.9 MB)\n",
      "     |████████████████████████████████| 37.9 MB 11.8 MB/s            \n",
      "\u001b[?25h  Preparing metadata (setup.py) ... \u001b[?25ldone\n",
      "\u001b[?25hCollecting cycler>=0.10\n",
      "  Downloading cycler-0.11.0-py3-none-any.whl (6.4 kB)\n",
      "Collecting kiwisolver>=1.0.1\n",
      "  Downloading kiwisolver-1.3.1-cp36-cp36m-manylinux2014_aarch64.whl (77 kB)\n",
      "     |████████████████████████████████| 77 kB 2.9 MB/s            \n",
      "\u001b[?25hRequirement already satisfied: numpy>=1.15 in /usr/local/lib/python3.6/site-packages (from matplotlib) (1.19.5)\n",
      "Collecting pillow>=6.2.0\n",
      "  Downloading Pillow-8.4.0-cp36-cp36m-manylinux_2_17_aarch64.manylinux2014_aarch64.whl (3.0 MB)\n",
      "     |████████████████████████████████| 3.0 MB 5.7 MB/s            \n",
      "\u001b[?25hRequirement already satisfied: pyparsing!=2.0.4,!=2.1.2,!=2.1.6,>=2.0.3 in /usr/local/lib/python3.6/site-packages (from matplotlib) (3.0.9)\n",
      "Requirement already satisfied: python-dateutil>=2.1 in /usr/local/lib/python3.6/site-packages (from matplotlib) (2.8.2)\n",
      "Requirement already satisfied: six>=1.5 in /usr/local/lib/python3.6/site-packages (from python-dateutil>=2.1->matplotlib) (1.16.0)\n",
      "Building wheels for collected packages: matplotlib\n",
      "  Building wheel for matplotlib (setup.py) ... \u001b[?25ldone\n",
      "\u001b[?25h  Created wheel for matplotlib: filename=matplotlib-3.3.4-cp36-cp36m-linux_aarch64.whl size=11671607 sha256=4b77dac6fb72b8ad76c3ed72dd4dfe2293b273c6c59597cdaeca6003d3126140\n",
      "  Stored in directory: /root/.cache/pip/wheels/09/f4/84/841a4c463638ce3204dcb7137673efe82f22fba82544946b1f\n",
      "Successfully built matplotlib\n",
      "Installing collected packages: pillow, kiwisolver, cycler, matplotlib\n",
      "Successfully installed cycler-0.11.0 kiwisolver-1.3.1 matplotlib-3.3.4 pillow-8.4.0\n",
      "\u001b[33mWARNING: Running pip as the 'root' user can result in broken permissions and conflicting behaviour with the system package manager. It is recommended to use a virtual environment instead: https://pip.pypa.io/warnings/venv\u001b[0m\n"
     ]
    }
   ],
   "source": [
    "!pip install matplotlib"
   ]
  },
  {
   "cell_type": "code",
   "execution_count": null,
   "metadata": {},
   "outputs": [],
   "source": []
  }
 ],
 "metadata": {
  "kernelspec": {
   "display_name": "Python 3",
   "language": "python",
   "name": "python3"
  },
  "language_info": {
   "codemirror_mode": {
    "name": "ipython",
    "version": 3
   },
   "file_extension": ".py",
   "mimetype": "text/x-python",
   "name": "python",
   "nbconvert_exporter": "python",
   "pygments_lexer": "ipython3",
   "version": "3.6.15"
  }
 },
 "nbformat": 4,
 "nbformat_minor": 4
}
